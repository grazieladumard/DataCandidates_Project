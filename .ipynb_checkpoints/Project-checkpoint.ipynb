{
 "cells": [
  {
   "cell_type": "markdown",
   "id": "f6e09cb8",
   "metadata": {},
   "source": [
    "# DATA from candidates for Federal Deputies whose declare \"pastor\" or \"brother\" - RIO - 2022 national election"
   ]
  },
  {
   "cell_type": "markdown",
   "id": "693bc0ca",
   "metadata": {},
   "source": [
    "The data is from  Superior Eletoral Court from Brazil - extracted in Aug 19th, 2022\n",
    "* https://divulgacandcontas.tse.jus.br/divulga/#/estados/2022/2040602022/RJ/candidatos"
   ]
  },
  {
   "cell_type": "code",
   "execution_count": 53,
   "id": "12fb3478",
   "metadata": {
    "scrolled": true
   },
   "outputs": [],
   "source": [
    "link='https://github.com/grazieladumard/DataCandidates_Project/raw/main/DeputadoFederalRJ_2022.csv'"
   ]
  },
  {
   "cell_type": "code",
   "execution_count": 54,
   "id": "29a4aae0",
   "metadata": {},
   "outputs": [],
   "source": [
    "import pandas as pd\n",
    "candidates=pd.read_csv(link,sep=\";\")"
   ]
  },
  {
   "cell_type": "code",
   "execution_count": 55,
   "id": "3ce8b8ba",
   "metadata": {
    "scrolled": true
   },
   "outputs": [
    {
     "data": {
      "text/html": [
       "<div>\n",
       "<style scoped>\n",
       "    .dataframe tbody tr th:only-of-type {\n",
       "        vertical-align: middle;\n",
       "    }\n",
       "\n",
       "    .dataframe tbody tr th {\n",
       "        vertical-align: top;\n",
       "    }\n",
       "\n",
       "    .dataframe thead th {\n",
       "        text-align: right;\n",
       "    }\n",
       "</style>\n",
       "<table border=\"1\" class=\"dataframe\">\n",
       "  <thead>\n",
       "    <tr style=\"text-align: right;\">\n",
       "      <th></th>\n",
       "      <th>Nome Completo</th>\n",
       "      <th>Nome Urna</th>\n",
       "      <th>Cargo</th>\n",
       "      <th>Número</th>\n",
       "      <th>Partido</th>\n",
       "      <th>Coligação</th>\n",
       "      <th>Situação</th>\n",
       "      <th>Situação Pós-Pleito</th>\n",
       "    </tr>\n",
       "  </thead>\n",
       "  <tbody>\n",
       "    <tr>\n",
       "      <th>0</th>\n",
       "      <td>ABRAÃO RAMOS PEREIRA BRAZ</td>\n",
       "      <td>ABRAÃO BRAZ</td>\n",
       "      <td>Deputado Federal</td>\n",
       "      <td>3017</td>\n",
       "      <td>NOVO</td>\n",
       "      <td>NOVO</td>\n",
       "      <td>Aguardando julgamento</td>\n",
       "      <td>Concorrendo</td>\n",
       "    </tr>\n",
       "    <tr>\n",
       "      <th>1</th>\n",
       "      <td>ADELZON ALVES</td>\n",
       "      <td>ADELZON ALVES</td>\n",
       "      <td>Deputado Federal</td>\n",
       "      <td>4300</td>\n",
       "      <td>PV</td>\n",
       "      <td>Federação Brasil da Esperança - FE BRASIL(PT/P...</td>\n",
       "      <td>Aguardando julgamento</td>\n",
       "      <td>Concorrendo</td>\n",
       "    </tr>\n",
       "    <tr>\n",
       "      <th>2</th>\n",
       "      <td>ADEMIR MARTINS DA SILVA</td>\n",
       "      <td>ADEMIR MARTINS</td>\n",
       "      <td>Deputado Federal</td>\n",
       "      <td>4323</td>\n",
       "      <td>PV</td>\n",
       "      <td>Federação Brasil da Esperança - FE BRASIL(PT/P...</td>\n",
       "      <td>Renúncia</td>\n",
       "      <td>Concorrendo</td>\n",
       "    </tr>\n",
       "    <tr>\n",
       "      <th>3</th>\n",
       "      <td>ADEMIR ALVES DE MELO</td>\n",
       "      <td>ADEMIR MELO</td>\n",
       "      <td>Deputado Federal</td>\n",
       "      <td>1956</td>\n",
       "      <td>PODE</td>\n",
       "      <td>PODE</td>\n",
       "      <td>Aguardando julgamento</td>\n",
       "      <td>Concorrendo</td>\n",
       "    </tr>\n",
       "    <tr>\n",
       "      <th>4</th>\n",
       "      <td>ADEMIR DA SILVA PANCOTE</td>\n",
       "      <td>ADEMIR PANCOTE</td>\n",
       "      <td>Deputado Federal</td>\n",
       "      <td>9095</td>\n",
       "      <td>PROS</td>\n",
       "      <td>PROS</td>\n",
       "      <td>Aguardando julgamento</td>\n",
       "      <td>Concorrendo</td>\n",
       "    </tr>\n",
       "  </tbody>\n",
       "</table>\n",
       "</div>"
      ],
      "text/plain": [
       "               Nome Completo       Nome Urna             Cargo  Número  \\\n",
       "0  ABRAÃO RAMOS PEREIRA BRAZ     ABRAÃO BRAZ  Deputado Federal    3017   \n",
       "1              ADELZON ALVES   ADELZON ALVES  Deputado Federal    4300   \n",
       "2    ADEMIR MARTINS DA SILVA  ADEMIR MARTINS  Deputado Federal    4323   \n",
       "3       ADEMIR ALVES DE MELO     ADEMIR MELO  Deputado Federal    1956   \n",
       "4    ADEMIR DA SILVA PANCOTE  ADEMIR PANCOTE  Deputado Federal    9095   \n",
       "\n",
       "  Partido                                          Coligação  \\\n",
       "0    NOVO                                               NOVO   \n",
       "1      PV  Federação Brasil da Esperança - FE BRASIL(PT/P...   \n",
       "2      PV  Federação Brasil da Esperança - FE BRASIL(PT/P...   \n",
       "3    PODE                                               PODE   \n",
       "4    PROS                                               PROS   \n",
       "\n",
       "                Situação Situação Pós-Pleito  \n",
       "0  Aguardando julgamento         Concorrendo  \n",
       "1  Aguardando julgamento         Concorrendo  \n",
       "2               Renúncia         Concorrendo  \n",
       "3  Aguardando julgamento         Concorrendo  \n",
       "4  Aguardando julgamento         Concorrendo  "
      ]
     },
     "execution_count": 55,
     "metadata": {},
     "output_type": "execute_result"
    }
   ],
   "source": [
    "candidates.head()"
   ]
  },
  {
   "cell_type": "code",
   "execution_count": 56,
   "id": "9eff119a",
   "metadata": {
    "scrolled": true
   },
   "outputs": [
    {
     "name": "stdout",
     "output_type": "stream",
     "text": [
      "<class 'pandas.core.frame.DataFrame'>\n",
      "RangeIndex: 1065 entries, 0 to 1064\n",
      "Data columns (total 8 columns):\n",
      " #   Column               Non-Null Count  Dtype \n",
      "---  ------               --------------  ----- \n",
      " 0   Nome Completo        1065 non-null   object\n",
      " 1   Nome Urna            1065 non-null   object\n",
      " 2   Cargo                1065 non-null   object\n",
      " 3   Número               1065 non-null   int64 \n",
      " 4   Partido              1065 non-null   object\n",
      " 5   Coligação            1065 non-null   object\n",
      " 6   Situação             1065 non-null   object\n",
      " 7   Situação Pós-Pleito  1065 non-null   object\n",
      "dtypes: int64(1), object(7)\n",
      "memory usage: 66.7+ KB\n"
     ]
    }
   ],
   "source": [
    "candidates.info()"
   ]
  },
  {
   "cell_type": "code",
   "execution_count": 57,
   "id": "c8e5ffda",
   "metadata": {
    "scrolled": true
   },
   "outputs": [
    {
     "data": {
      "text/plain": [
       "Index(['Nome Completo', 'Nome Urna', 'Cargo', 'Número', 'Partido', 'Coligação',\n",
       "       'Situação', 'Situação Pós-Pleito'],\n",
       "      dtype='object')"
      ]
     },
     "execution_count": 57,
     "metadata": {},
     "output_type": "execute_result"
    }
   ],
   "source": [
    "candidates.columns"
   ]
  },
  {
   "cell_type": "code",
   "execution_count": 71,
   "id": "98c36523",
   "metadata": {
    "scrolled": true
   },
   "outputs": [
    {
     "data": {
      "text/html": [
       "<div>\n",
       "<style scoped>\n",
       "    .dataframe tbody tr th:only-of-type {\n",
       "        vertical-align: middle;\n",
       "    }\n",
       "\n",
       "    .dataframe tbody tr th {\n",
       "        vertical-align: top;\n",
       "    }\n",
       "\n",
       "    .dataframe thead th {\n",
       "        text-align: right;\n",
       "    }\n",
       "</style>\n",
       "<table border=\"1\" class=\"dataframe\">\n",
       "  <thead>\n",
       "    <tr style=\"text-align: right;\">\n",
       "      <th></th>\n",
       "      <th>Nome Completo</th>\n",
       "      <th>Partido</th>\n",
       "    </tr>\n",
       "  </thead>\n",
       "  <tbody>\n",
       "    <tr>\n",
       "      <th>0</th>\n",
       "      <td>ABRAÃO RAMOS PEREIRA BRAZ</td>\n",
       "      <td>NOVO</td>\n",
       "    </tr>\n",
       "    <tr>\n",
       "      <th>1</th>\n",
       "      <td>ADELZON ALVES</td>\n",
       "      <td>PV</td>\n",
       "    </tr>\n",
       "    <tr>\n",
       "      <th>2</th>\n",
       "      <td>ADEMIR MARTINS DA SILVA</td>\n",
       "      <td>PV</td>\n",
       "    </tr>\n",
       "    <tr>\n",
       "      <th>3</th>\n",
       "      <td>ADEMIR ALVES DE MELO</td>\n",
       "      <td>PODE</td>\n",
       "    </tr>\n",
       "    <tr>\n",
       "      <th>4</th>\n",
       "      <td>ADEMIR DA SILVA PANCOTE</td>\n",
       "      <td>PROS</td>\n",
       "    </tr>\n",
       "    <tr>\n",
       "      <th>...</th>\n",
       "      <td>...</td>\n",
       "      <td>...</td>\n",
       "    </tr>\n",
       "    <tr>\n",
       "      <th>1060</th>\n",
       "      <td>EMERSON CRUZ DE OLIVEIRA</td>\n",
       "      <td>AGIR</td>\n",
       "    </tr>\n",
       "    <tr>\n",
       "      <th>1061</th>\n",
       "      <td>JOSÉ CARLOS PORTO NETO</td>\n",
       "      <td>SOLIDARIEDADE</td>\n",
       "    </tr>\n",
       "    <tr>\n",
       "      <th>1062</th>\n",
       "      <td>JOSÉ JALMIR DE MEDEIROS</td>\n",
       "      <td>DC</td>\n",
       "    </tr>\n",
       "    <tr>\n",
       "      <th>1063</th>\n",
       "      <td>ZICRI LAMEQUE DA SILVA</td>\n",
       "      <td>AGIR</td>\n",
       "    </tr>\n",
       "    <tr>\n",
       "      <th>1064</th>\n",
       "      <td>ZILMARA BRANDAO DA SILVA</td>\n",
       "      <td>PP</td>\n",
       "    </tr>\n",
       "  </tbody>\n",
       "</table>\n",
       "<p>1065 rows × 2 columns</p>\n",
       "</div>"
      ],
      "text/plain": [
       "                  Nome Completo        Partido\n",
       "0     ABRAÃO RAMOS PEREIRA BRAZ           NOVO\n",
       "1                 ADELZON ALVES             PV\n",
       "2       ADEMIR MARTINS DA SILVA             PV\n",
       "3          ADEMIR ALVES DE MELO           PODE\n",
       "4       ADEMIR DA SILVA PANCOTE           PROS\n",
       "...                         ...            ...\n",
       "1060   EMERSON CRUZ DE OLIVEIRA           AGIR\n",
       "1061     JOSÉ CARLOS PORTO NETO  SOLIDARIEDADE\n",
       "1062    JOSÉ JALMIR DE MEDEIROS             DC\n",
       "1063     ZICRI LAMEQUE DA SILVA           AGIR\n",
       "1064   ZILMARA BRANDAO DA SILVA             PP\n",
       "\n",
       "[1065 rows x 2 columns]"
      ]
     },
     "execution_count": 71,
     "metadata": {},
     "output_type": "execute_result"
    }
   ],
   "source": [
    "#keep the columns Full name (nome completo) and Party (partido).\n",
    "DF_Cand=candidates[['Nome Completo', 'Partido']]\n",
    "DF_Cand"
   ]
  },
  {
   "cell_type": "code",
   "execution_count": 72,
   "id": "f222d684",
   "metadata": {
    "scrolled": true
   },
   "outputs": [
    {
     "data": {
      "text/plain": [
       "1065"
      ]
     },
     "execution_count": 72,
     "metadata": {},
     "output_type": "execute_result"
    }
   ],
   "source": [
    "len(DF_Cand)"
   ]
  },
  {
   "cell_type": "code",
   "execution_count": 67,
   "id": "0d793d74",
   "metadata": {},
   "outputs": [
    {
     "data": {
      "text/plain": [
       "pandas.core.frame.DataFrame"
      ]
     },
     "execution_count": 67,
     "metadata": {},
     "output_type": "execute_result"
    }
   ],
   "source": [
    "type(candidates)"
   ]
  },
  {
   "cell_type": "code",
   "execution_count": 73,
   "id": "d9309a93",
   "metadata": {},
   "outputs": [
    {
     "data": {
      "text/plain": [
       "(1065, 2)"
      ]
     },
     "execution_count": 73,
     "metadata": {},
     "output_type": "execute_result"
    }
   ],
   "source": [
    "DF_Cand.shape"
   ]
  },
  {
   "cell_type": "code",
   "execution_count": 79,
   "id": "f0393d36",
   "metadata": {},
   "outputs": [
    {
     "data": {
      "text/plain": [
       "pandas.core.frame.DataFrame"
      ]
     },
     "execution_count": 79,
     "metadata": {},
     "output_type": "execute_result"
    }
   ],
   "source": [
    "#Select the Full Name with 'Pastor' before the name"
   ]
  },
  {
   "cell_type": "code",
   "execution_count": null,
   "id": "c204f15c",
   "metadata": {},
   "outputs": [],
   "source": [
    "#Check how much is it and from which parties are they"
   ]
  },
  {
   "cell_type": "code",
   "execution_count": null,
   "id": "326c777c",
   "metadata": {},
   "outputs": [],
   "source": [
    "#Combine with other states"
   ]
  }
 ],
 "metadata": {
  "kernelspec": {
   "display_name": "Python 3 (ipykernel)",
   "language": "python",
   "name": "python3"
  },
  "language_info": {
   "codemirror_mode": {
    "name": "ipython",
    "version": 3
   },
   "file_extension": ".py",
   "mimetype": "text/x-python",
   "name": "python",
   "nbconvert_exporter": "python",
   "pygments_lexer": "ipython3",
   "version": "3.9.12"
  }
 },
 "nbformat": 4,
 "nbformat_minor": 5
}
